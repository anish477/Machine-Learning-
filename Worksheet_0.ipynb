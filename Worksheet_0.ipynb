{
  "nbformat": 4,
  "nbformat_minor": 0,
  "metadata": {
    "colab": {
      "provenance": [],
      "authorship_tag": "ABX9TyO3dS9dfg2yrNI4EEJGkTkI",
      "include_colab_link": true
    },
    "kernelspec": {
      "name": "python3",
      "display_name": "Python 3"
    },
    "language_info": {
      "name": "python"
    }
  },
  "cells": [
    {
      "cell_type": "markdown",
      "metadata": {
        "id": "view-in-github",
        "colab_type": "text"
      },
      "source": [
        "<a href=\"https://colab.research.google.com/github/anish477/Machine-Learning-/blob/main/Worksheet_0.ipynb\" target=\"_parent\"><img src=\"https://colab.research.google.com/assets/colab-badge.svg\" alt=\"Open In Colab\"/></a>"
      ]
    },
    {
      "cell_type": "markdown",
      "source": [],
      "metadata": {
        "id": "i6YOW5X50Fer"
      }
    },
    {
      "cell_type": "markdown",
      "source": [
        "## Create a Python program that converts between different units of measurement."
      ],
      "metadata": {
        "id": "kgdWAw2M0HCS"
      }
    },
    {
      "cell_type": "code",
      "execution_count": null,
      "metadata": {
        "id": "BrChIy_3vO9E",
        "colab": {
          "base_uri": "https://localhost:8080/"
        },
        "outputId": "26fba710-0371-43ad-e97c-373a113941ed"
      },
      "outputs": [
        {
          "output_type": "stream",
          "name": "stdout",
          "text": [
            "Enter The value 25\n",
            "Convert meters (m) to feet (ft) =1\n",
            "Convert feet (ft) to meters (m) =2\n",
            "Convert pounds (lbs) to kilograms (kg) =3\n",
            "Convert kilograms (kg) to pounds (lbs) =4\n",
            "Convert liters (L) to gallons (gal) =5\n",
            "Convert gallons (gal) to liters (L) =6\n",
            "Select conversion 2\n",
            "Convert feet (ft) to meters (m)\n",
            "converted value is 7.6199997561600075 m\n"
          ]
        }
      ],
      "source": [
        "def conversion():\n",
        "\n",
        "  try:\n",
        "    conversion.__doc__\n",
        "    data=float(input(\"Enter The value \"))\n",
        "    if(type(data)==float):\n",
        "\n",
        "      print(\"Convert meters (m) to feet (ft) =1\")\n",
        "      print(\"Convert feet (ft) to meters (m) =2\")\n",
        "      print(\"Convert pounds (lbs) to kilograms (kg) =3\")\n",
        "      print(\"Convert kilograms (kg) to pounds (lbs) =4\")\n",
        "      print(\"Convert liters (L) to gallons (gal) =5\")\n",
        "      print(\"Convert gallons (gal) to liters (L) =6\")\n",
        "      con=int(input(\"Select conversion \"))\n",
        "\n",
        "      match con:\n",
        "        case 1:\n",
        "          print(\"Convert meters (m) to feet (ft).\")\n",
        "          print(f'converted value is {data*3.28084} ft')\n",
        "        case 2:\n",
        "          print(\"Convert feet (ft) to meters (m)\")\n",
        "          print(f'converted value is {data/3.28084} m')\n",
        "        case 3:\n",
        "          print(\"Convert pounds (lbs) to kilograms (kg)\")\n",
        "          print(f'converted value is {data/2.205} kg')\n",
        "        case 4:\n",
        "          print(\"Convert kilograms (kg) to pounds (lbs)\")\n",
        "          print(f'converted value is {data*2.205} lbs')\n",
        "        case 5:\n",
        "          print(\"Convert liters (L) to gallons (gal)\")\n",
        "          print(f'converted value is {data*0.264172} gal')\n",
        "        case 6:\n",
        "          print(\"Convert gallons (gal) to liters (L)\")\n",
        "          print(f'converted value is {data/0.264172} L')\n",
        "\n",
        "  except Exception as e:\n",
        "    print(e)\n",
        "\n",
        "def doc():\n",
        "   '''\n",
        "  This program performs the conversion lengt, weidth, and volume. User input is given by user.\n",
        "  '''\n",
        "\n",
        "conversion()\n",
        "\n",
        "\n",
        "\n",
        "\n"
      ]
    },
    {
      "cell_type": "markdown",
      "source": [
        "##Task - 2:\n",
        "Create a Python program that performs various mathematical operations on a list of numbers."
      ],
      "metadata": {
        "id": "0ToDEqbZ8-E0"
      }
    },
    {
      "cell_type": "code",
      "source": [
        "\n",
        "\n",
        "def addition(num1,num2):\n",
        "  print('performing addition')\n",
        "  return num1+num2\n",
        "\n",
        "def subtraction(num1,num2):\n",
        "  print('performing Subtraction')\n",
        "  return num1-num2\n",
        "def divison(num1,num2):\n",
        "  print('performing division')\n",
        "  return num1/num2\n",
        "\n",
        "def multiplication(num1,num2):\n",
        "  print('performing multiplication')\n",
        "  return num1*num2\n",
        "\n",
        "def main():\n",
        "  try:\n",
        "    num1=input(\"Enter num 1\")\n",
        "    num2=input(\"Enter num2\")\n",
        "    cal=input(\"Give calculatiuon metrics\")\n",
        "    match cal:\n",
        "      case \"+\":\n",
        "        res=addition(num1,num2)\n",
        "        print(res)\n",
        "      case'-':\n",
        "        print(subtraction(num1,num2))\n",
        "      case'*':\n",
        "       print(multiplication(num1,num2))\n",
        "      case'/':\n",
        "        print(divison(num1,num2))\n",
        "\n",
        "\n",
        "  except Exception as e:\n",
        "    print(e)\n",
        "main()\n",
        "\n"
      ],
      "metadata": {
        "id": "5iI1pAHz1v9D",
        "colab": {
          "base_uri": "https://localhost:8080/"
        },
        "outputId": "aa9cf614-bcf0-4f9e-a6b7-3dd8753dd9a0"
      },
      "execution_count": null,
      "outputs": [
        {
          "output_type": "stream",
          "name": "stdout",
          "text": [
            "Enter num 15\n",
            "Enter num23\n",
            "Give calculatiuon metrics+\n",
            "performing addition\n",
            "53\n"
          ]
        }
      ]
    },
    {
      "cell_type": "markdown",
      "source": [
        "##4.2 Exercise on List Manipulation:\n",
        "1. Extract Every Other Element:"
      ],
      "metadata": {
        "id": "c_6uz4TE47JZ"
      }
    },
    {
      "cell_type": "code",
      "source": [
        "def extract_every_other(lst):\n",
        "  newlist=[]\n",
        "  for i in range(0,len(lst),2):\n",
        "      newlist.append(lst[i])\n",
        "  print(newlist)\n",
        "\n",
        "lst=[1,2,3,4,5]\n",
        "extract_every_other(lst)"
      ],
      "metadata": {
        "id": "6hxWSd0c4oHx",
        "colab": {
          "base_uri": "https://localhost:8080/"
        },
        "outputId": "634c331b-7913-49a5-b6cf-72af103728b0"
      },
      "execution_count": 30,
      "outputs": [
        {
          "output_type": "stream",
          "name": "stdout",
          "text": [
            "[1, 3, 5]\n"
          ]
        }
      ]
    },
    {
      "cell_type": "markdown",
      "source": [
        "###2. Slice a Sublist:"
      ],
      "metadata": {
        "id": "P9RuCxc3nmur"
      }
    },
    {
      "cell_type": "code",
      "source": [
        "def get_sublist(lst, start, end):\n",
        "  print(lst[start:end+1])\n",
        "\n",
        "\n",
        "\n",
        "lst=[1,2,3,4,5]\n",
        "get_sublist(lst,2,4)\n"
      ],
      "metadata": {
        "colab": {
          "base_uri": "https://localhost:8080/"
        },
        "id": "eX-PPcpynoaM",
        "outputId": "827f01f3-4b90-4d7e-de1d-c410562f380c"
      },
      "execution_count": 34,
      "outputs": [
        {
          "output_type": "stream",
          "name": "stdout",
          "text": [
            "[3, 4, 5]\n"
          ]
        }
      ]
    },
    {
      "cell_type": "markdown",
      "source": [
        "###3. Reverse a List Using Slicing:"
      ],
      "metadata": {
        "id": "zhXPZZMipMCM"
      }
    },
    {
      "cell_type": "code",
      "source": [
        "def reverse_list(lst):\n",
        "  print(lst[::-1])\n",
        "\n",
        "lst=[1,2,3,4,5]\n",
        "reverse_list(lst)"
      ],
      "metadata": {
        "colab": {
          "base_uri": "https://localhost:8080/"
        },
        "id": "3wh1ShPopPXc",
        "outputId": "d4ea403a-d42a-4395-81d8-00f1d6f77fc1"
      },
      "execution_count": 37,
      "outputs": [
        {
          "output_type": "stream",
          "name": "stdout",
          "text": [
            "[5, 4, 3, 2, 1]\n"
          ]
        }
      ]
    },
    {
      "cell_type": "markdown",
      "source": [
        "4. Remove the First and Last Elements:"
      ],
      "metadata": {
        "id": "dyBVtHW3po_F"
      }
    },
    {
      "cell_type": "code",
      "source": [
        "def remove_first_last(lst):\n",
        "  print(lst[1:-1])\n",
        "lst=[1,2,3,4,5]\n",
        "remove_first_last(lst)"
      ],
      "metadata": {
        "colab": {
          "base_uri": "https://localhost:8080/"
        },
        "id": "G8_Om2cppWHa",
        "outputId": "36500cdc-e138-4319-b3c2-2a03a7cbaf22"
      },
      "execution_count": 39,
      "outputs": [
        {
          "output_type": "stream",
          "name": "stdout",
          "text": [
            "[2, 3, 4]\n"
          ]
        }
      ]
    },
    {
      "cell_type": "markdown",
      "source": [
        "Get the First n Elements:"
      ],
      "metadata": {
        "id": "x6JLpPD-qF09"
      }
    },
    {
      "cell_type": "code",
      "source": [
        "def get_first_n(lst,n):\n",
        "  print(lst[:n])\n",
        "lst=[1,2,3,4,5]\n",
        "n=3\n",
        "get_first_n(lst,n)"
      ],
      "metadata": {
        "colab": {
          "base_uri": "https://localhost:8080/"
        },
        "id": "UsBiLk4AqHXb",
        "outputId": "92a1edd5-63a6-479f-89ab-6b5920e37519"
      },
      "execution_count": 46,
      "outputs": [
        {
          "output_type": "stream",
          "name": "stdout",
          "text": [
            "[1, 2, 3]\n"
          ]
        }
      ]
    },
    {
      "cell_type": "code",
      "source": [
        "def get_last_n(lst,n):\n",
        "  print(lst[-n:])\n",
        "lst=[1,2,3,4,5]\n",
        "n=2\n",
        "get_last_n(lst,n)"
      ],
      "metadata": {
        "colab": {
          "base_uri": "https://localhost:8080/"
        },
        "id": "oF7lNionqlkd",
        "outputId": "d6da1ef9-d5ba-4a5b-8147-93793e25da9f"
      },
      "execution_count": 48,
      "outputs": [
        {
          "output_type": "stream",
          "name": "stdout",
          "text": [
            "[4, 5]\n"
          ]
        }
      ]
    },
    {
      "cell_type": "code",
      "source": [
        "def reverse_skip(lst):\n",
        "  print(lst[-2::-2])\n",
        "lst=[1,2,3,4,5,6]\n",
        "reverse_skip(lst)"
      ],
      "metadata": {
        "colab": {
          "base_uri": "https://localhost:8080/"
        },
        "id": "usP5PgRMrrpd",
        "outputId": "c915a82f-d424-4999-89c5-52b980a4ed56"
      },
      "execution_count": 66,
      "outputs": [
        {
          "output_type": "stream",
          "name": "stdout",
          "text": [
            "[5, 3, 1]\n"
          ]
        }
      ]
    },
    {
      "cell_type": "markdown",
      "source": [
        "4.3 Exercise on Nested List:"
      ],
      "metadata": {
        "id": "oIDICxtJtlQc"
      }
    },
    {
      "cell_type": "code",
      "source": [
        "def flatten(lst):\n",
        "  flatten_list=[]\n",
        "  for sublist in lst:\n",
        "    for i in sublist:\n",
        "      print(i)\n",
        "      flatten_list.append(i)\n",
        "  print(flatten_list)\n",
        "\n",
        "\n",
        "lst=[[1, 2], [3, 4], [5]]\n",
        "flatten(lst)"
      ],
      "metadata": {
        "colab": {
          "base_uri": "https://localhost:8080/"
        },
        "id": "EcRcCxZFtoA0",
        "outputId": "caff42ed-6f47-4953-a21a-a67877e4c26c"
      },
      "execution_count": 86,
      "outputs": [
        {
          "output_type": "stream",
          "name": "stdout",
          "text": [
            "1\n",
            "2\n",
            "3\n",
            "4\n",
            "5\n",
            "[1, 2, 3, 4, 5]\n"
          ]
        }
      ]
    },
    {
      "cell_type": "code",
      "source": [
        "#2. Accessing Nested List Elements:\n",
        "def access_nested_element(lst, indices):\n",
        "  for i in indices:\n",
        "    lst=lst[i]\n",
        "  print(f\"{lst}\")\n",
        "\n",
        "lst = [[1, 2, 3], [4, 5, 6], [7, 8, 9]]\n",
        "indices=[1,2]\n",
        "access_nested_element(lst, indices)"
      ],
      "metadata": {
        "colab": {
          "base_uri": "https://localhost:8080/"
        },
        "id": "gGRGXShCu6mU",
        "outputId": "609cdb3b-ee71-48b8-9001-1c9f7a0d9631"
      },
      "execution_count": 82,
      "outputs": [
        {
          "output_type": "stream",
          "name": "stdout",
          "text": [
            "6\n"
          ]
        }
      ]
    },
    {
      "cell_type": "code",
      "source": [
        "def sum_nested(lst):\n",
        "  sum=0\n",
        "  for sublist in lst:\n",
        "    if isinstance(sublist,list):\n",
        "      sum +=sum_nested(sublist)\n",
        "    else:\n",
        "      sum+=sublist\n",
        "  return sum\n",
        "lst=[[1, 2], [3, [4, 5]], 6]\n",
        "sum_nested(lst)"
      ],
      "metadata": {
        "colab": {
          "base_uri": "https://localhost:8080/"
        },
        "id": "yoUOuigywmD8",
        "outputId": "fb577fd6-d86e-4b60-f718-f08c3cc1f73b"
      },
      "execution_count": 98,
      "outputs": [
        {
          "output_type": "execute_result",
          "data": {
            "text/plain": [
              "21"
            ]
          },
          "metadata": {},
          "execution_count": 98
        }
      ]
    },
    {
      "cell_type": "code",
      "source": [
        "def remove_element(lst, elem):\n",
        "  for sublist in lst:\n",
        "    for i in sublist:\n",
        "      if(i==elem):\n",
        "        sublist.remove(i)\n",
        "\n",
        "\n",
        "print(lst)\n",
        "\n",
        "lst = [[1, 2], [3, 2], [4, 5]]\n",
        "elem=2\n",
        "remove_element(lst, elem)\n"
      ],
      "metadata": {
        "colab": {
          "base_uri": "https://localhost:8080/"
        },
        "id": "0PbTXqibyS0k",
        "outputId": "7b38c69c-a03b-4f52-c536-8d508cff4e08"
      },
      "execution_count": 111,
      "outputs": [
        {
          "output_type": "stream",
          "name": "stdout",
          "text": [
            "[[1], [3], [4, 5]]\n"
          ]
        }
      ]
    },
    {
      "cell_type": "code",
      "source": [
        "def find_max(lst):\n",
        "  maximum=0\n",
        "  for sublist in lst:\n",
        "    if isinstance(sublist,list):\n",
        "      for item in sublist:\n",
        "        maximum = max(maximum, find_max(sublist))\n",
        "    else:\n",
        "      maximum=max(maximum,sublist)\n",
        "  return maximum\n",
        "\n",
        "\n",
        "lst=[[1, 2], [3, [4, 5]], 6]\n",
        "find_max(lst)"
      ],
      "metadata": {
        "colab": {
          "base_uri": "https://localhost:8080/"
        },
        "id": "shH_bNsa2zQX",
        "outputId": "d5831ead-1ee8-4bb4-a40f-975deb542c09"
      },
      "execution_count": 122,
      "outputs": [
        {
          "output_type": "execute_result",
          "data": {
            "text/plain": [
              "6"
            ]
          },
          "metadata": {},
          "execution_count": 122
        }
      ]
    },
    {
      "cell_type": "code",
      "source": [
        "def count_element(lst, elem):\n",
        "  count=0\n",
        "  for sublist in lst:\n",
        "    for i in sublist:\n",
        "      if(i==elem):\n",
        "        count +=1\n",
        "  return count\n",
        "\n",
        "\n",
        "lst = [[1, 2], [2, 3], [2, 4]]\n",
        "elem=2\n",
        "count_element(lst, elem)"
      ],
      "metadata": {
        "colab": {
          "base_uri": "https://localhost:8080/"
        },
        "id": "ZI__7k6f7Q1p",
        "outputId": "4eb73879-19e5-467c-9abf-52759bd3fc46"
      },
      "execution_count": 127,
      "outputs": [
        {
          "output_type": "execute_result",
          "data": {
            "text/plain": [
              "3"
            ]
          },
          "metadata": {},
          "execution_count": 127
        }
      ]
    },
    {
      "cell_type": "code",
      "source": [
        "def deep_flatten(lst):\n",
        "  new_list=[]\n",
        "  for sublist in lst:\n",
        "    if isinstance(sublist,list):\n",
        "      new_list.extend(deep_flatten(sublist))\n",
        "\n",
        "    else:\n",
        "      new_list.append(sublist)\n",
        "  return new_list\n",
        "\n",
        "\n",
        "lst=[[[1, 2], [3, 4]], [[5, 6], [7, 8]]]\n",
        "deep_flatten(lst)\n"
      ],
      "metadata": {
        "colab": {
          "base_uri": "https://localhost:8080/"
        },
        "id": "vmRDWwff7nJu",
        "outputId": "8fa5ed86-5700-49b7-e4b3-e1026780bab8"
      },
      "execution_count": 142,
      "outputs": [
        {
          "output_type": "execute_result",
          "data": {
            "text/plain": [
              "[1, 2, 3, 4, 5, 6, 7, 8]"
            ]
          },
          "metadata": {},
          "execution_count": 142
        }
      ]
    },
    {
      "cell_type": "code",
      "source": [
        "def average(lst, elem):\n",
        "  count=0\n",
        "  sum=0\n",
        "  for sublist in lst:\n",
        "    for i in sublist:\n",
        "        sum=sum+i\n",
        "        count +=1\n",
        "\n",
        "\n",
        "  return sum/count\n",
        "\n",
        "lst = [[1, 2], [3, 4], [5, 6]]\n",
        "elem=2\n",
        "average(lst, elem)"
      ],
      "metadata": {
        "colab": {
          "base_uri": "https://localhost:8080/"
        },
        "id": "2KteE0ej-kn6",
        "outputId": "322626cb-2d69-4869-a4db-c700c4dc4467"
      },
      "execution_count": 147,
      "outputs": [
        {
          "output_type": "execute_result",
          "data": {
            "text/plain": [
              "3.5"
            ]
          },
          "metadata": {},
          "execution_count": 147
        }
      ]
    },
    {
      "cell_type": "markdown",
      "source": [
        "##6 Getting Started with NumPy:"
      ],
      "metadata": {
        "id": "PL09zZdSCCna"
      }
    },
    {
      "cell_type": "code",
      "source": [
        "# 1. Initialize an empty array with size 2X2.\n",
        "import numpy as np\n",
        "arr1=np.empty((2,2))\n",
        "print(arr1)"
      ],
      "metadata": {
        "colab": {
          "base_uri": "https://localhost:8080/"
        },
        "id": "A000jnP1CGIU",
        "outputId": "211c3c81-b744-486d-8fd0-e2f94757fb53"
      },
      "execution_count": 16,
      "outputs": [
        {
          "output_type": "stream",
          "name": "stdout",
          "text": [
            "[[3.5e-323 3.5e-323]\n",
            " [3.5e-323 3.5e-323]]\n"
          ]
        }
      ]
    },
    {
      "cell_type": "code",
      "source": [
        "arr=np.ones((4,2))\n",
        "print(arr)"
      ],
      "metadata": {
        "colab": {
          "base_uri": "https://localhost:8080/"
        },
        "id": "DR1pSndQDMv3",
        "outputId": "2aea1811-741e-46bd-e1e8-63d2f5efd422"
      },
      "execution_count": 9,
      "outputs": [
        {
          "output_type": "stream",
          "name": "stdout",
          "text": [
            "[[1. 1.]\n",
            " [1. 1.]\n",
            " [1. 1.]\n",
            " [1. 1.]]\n"
          ]
        }
      ]
    },
    {
      "cell_type": "code",
      "source": [
        "arr=np.full((2,2),7,dtype=int)\n",
        "print(arr)"
      ],
      "metadata": {
        "colab": {
          "base_uri": "https://localhost:8080/"
        },
        "id": "sBH2nzKmDiiX",
        "outputId": "97bad23e-2bfa-4286-c24a-0969ee5395b0"
      },
      "execution_count": 13,
      "outputs": [
        {
          "output_type": "stream",
          "name": "stdout",
          "text": [
            "[[7 7]\n",
            " [7 7]]\n"
          ]
        }
      ]
    },
    {
      "cell_type": "code",
      "source": [
        "arr=np.zeros_like(arr1)\n",
        "print(arr)"
      ],
      "metadata": {
        "colab": {
          "base_uri": "https://localhost:8080/"
        },
        "id": "iTsinbGWD2oQ",
        "outputId": "f9fd8cb2-e64e-4c9a-b835-b9c38ecda6e6"
      },
      "execution_count": 17,
      "outputs": [
        {
          "output_type": "stream",
          "name": "stdout",
          "text": [
            "[[0. 0.]\n",
            " [0. 0.]]\n"
          ]
        }
      ]
    },
    {
      "cell_type": "code",
      "source": [
        "arr=np.ones_like(arr1)\n",
        "print(arr)"
      ],
      "metadata": {
        "colab": {
          "base_uri": "https://localhost:8080/"
        },
        "id": "T248VkWgENHP",
        "outputId": "9e164f33-f10f-4809-9a92-f5754d524c1f"
      },
      "execution_count": 20,
      "outputs": [
        {
          "output_type": "stream",
          "name": "stdout",
          "text": [
            "[[1. 1.]\n",
            " [1. 1.]]\n"
          ]
        }
      ]
    },
    {
      "cell_type": "code",
      "source": [
        "new_list = [1,2,3,4]\n",
        "arr=np.array(new_list)\n",
        "print(arr)"
      ],
      "metadata": {
        "colab": {
          "base_uri": "https://localhost:8080/"
        },
        "id": "osYlm0kDEVA_",
        "outputId": "6a9fc7e8-805b-47f0-d82e-94870a74e5c8"
      },
      "execution_count": 21,
      "outputs": [
        {
          "output_type": "stream",
          "name": "stdout",
          "text": [
            "[1 2 3 4]\n"
          ]
        }
      ]
    },
    {
      "cell_type": "code",
      "source": [
        "arr=np.arange(10,49)\n",
        "print(arr)"
      ],
      "metadata": {
        "colab": {
          "base_uri": "https://localhost:8080/"
        },
        "id": "1Cjzqfs5EjaZ",
        "outputId": "5c38455b-9c83-44c8-d2c2-c1555461813b"
      },
      "execution_count": 24,
      "outputs": [
        {
          "output_type": "stream",
          "name": "stdout",
          "text": [
            "[10 11 12 13 14 15 16 17 18 19 20 21 22 23 24 25 26 27 28 29 30 31 32 33\n",
            " 34 35 36 37 38 39 40 41 42 43 44 45 46 47 48]\n"
          ]
        }
      ]
    },
    {
      "cell_type": "code",
      "source": [
        "mat=np.arange(9).reshape(3,3)\n",
        "print(mat)"
      ],
      "metadata": {
        "colab": {
          "base_uri": "https://localhost:8080/"
        },
        "id": "GbMnF687E3IL",
        "outputId": "065c07f0-a580-4263-c5de-d44247ffbeca"
      },
      "execution_count": 26,
      "outputs": [
        {
          "output_type": "stream",
          "name": "stdout",
          "text": [
            "[[0 1 2]\n",
            " [3 4 5]\n",
            " [6 7 8]]\n"
          ]
        }
      ]
    },
    {
      "cell_type": "code",
      "source": [
        "arr=np.eye(3,3)\n",
        "print(arr)"
      ],
      "metadata": {
        "colab": {
          "base_uri": "https://localhost:8080/"
        },
        "id": "5sl9Y-u7FMtY",
        "outputId": "179a196a-311a-4b3d-ed9f-c5696b9e6305"
      },
      "execution_count": 28,
      "outputs": [
        {
          "output_type": "stream",
          "name": "stdout",
          "text": [
            "[[1. 0. 0.]\n",
            " [0. 1. 0.]\n",
            " [0. 0. 1.]]\n"
          ]
        }
      ]
    },
    {
      "cell_type": "code",
      "source": [
        "arr=np.random.random(30)\n",
        "mean=arr.mean()\n",
        "print(mean)"
      ],
      "metadata": {
        "colab": {
          "base_uri": "https://localhost:8080/"
        },
        "id": "DDd0RSNMFTrk",
        "outputId": "18baf894-e56b-4635-8d2c-7aa52b74ccc6"
      },
      "execution_count": 30,
      "outputs": [
        {
          "output_type": "stream",
          "name": "stdout",
          "text": [
            "0.5829463407174927\n"
          ]
        }
      ]
    },
    {
      "cell_type": "code",
      "source": [
        "arr=np.random.random(30)\n",
        "maximum=max(arr)\n",
        "minimum=min(arr)\n",
        "print(maximum)\n",
        "print(minimum)\n"
      ],
      "metadata": {
        "colab": {
          "base_uri": "https://localhost:8080/"
        },
        "id": "VvTTJKmEGKrH",
        "outputId": "dd8d69f6-a7b0-4a0d-b65f-cc7950506f2f"
      },
      "execution_count": 35,
      "outputs": [
        {
          "output_type": "stream",
          "name": "stdout",
          "text": [
            "0.9721859598637511\n",
            "0.00284756328104363\n"
          ]
        }
      ]
    },
    {
      "cell_type": "code",
      "source": [
        "arr=np.zeros(10)\n",
        "arr[4]=1\n",
        "print(arr)\n",
        "\n"
      ],
      "metadata": {
        "colab": {
          "base_uri": "https://localhost:8080/"
        },
        "id": "dVxqX0GeGNCB",
        "outputId": "752794b0-6d1b-4847-d052-c615f9fad19a"
      },
      "execution_count": 37,
      "outputs": [
        {
          "output_type": "stream",
          "name": "stdout",
          "text": [
            "[0. 0. 0. 0. 1. 0. 0. 0. 0. 0.]\n"
          ]
        }
      ]
    },
    {
      "cell_type": "code",
      "source": [
        "arr = [1, 2, 0, 0, 4, 0]\n",
        "print(arr[::-1])"
      ],
      "metadata": {
        "colab": {
          "base_uri": "https://localhost:8080/"
        },
        "id": "S2FCH2z7GdIX",
        "outputId": "5ca5827c-b6c6-4970-f58b-8fdfee2c9902"
      },
      "execution_count": 42,
      "outputs": [
        {
          "output_type": "stream",
          "name": "stdout",
          "text": [
            "[0, 4, 0, 0, 2, 1]\n"
          ]
        }
      ]
    },
    {
      "cell_type": "code",
      "source": [
        "arr=np.ones((3,3))\n",
        "arr[1:-1,1:-1]=0\n",
        "print(arr)"
      ],
      "metadata": {
        "colab": {
          "base_uri": "https://localhost:8080/"
        },
        "id": "zCoukzuMG-9a",
        "outputId": "e223fb20-4217-4487-c169-ecc1dc2f1009"
      },
      "execution_count": 44,
      "outputs": [
        {
          "output_type": "stream",
          "name": "stdout",
          "text": [
            "[[1. 1. 1.]\n",
            " [1. 0. 1.]\n",
            " [1. 1. 1.]]\n"
          ]
        }
      ]
    },
    {
      "cell_type": "code",
      "source": [
        "arr=np.zeros((8,8))\n",
        "arr[1::2, ::2]=1\n",
        "arr[::2, 1::2] = 1\n",
        "print(arr)"
      ],
      "metadata": {
        "colab": {
          "base_uri": "https://localhost:8080/"
        },
        "id": "ZhymiZfzHo_Z",
        "outputId": "5b8675b9-ffb9-4cf8-df47-7dcd1bfff790"
      },
      "execution_count": 56,
      "outputs": [
        {
          "output_type": "stream",
          "name": "stdout",
          "text": [
            "[[0. 1. 0. 1. 0. 1. 0. 1.]\n",
            " [1. 0. 1. 0. 1. 0. 1. 0.]\n",
            " [0. 1. 0. 1. 0. 1. 0. 1.]\n",
            " [1. 0. 1. 0. 1. 0. 1. 0.]\n",
            " [0. 1. 0. 1. 0. 1. 0. 1.]\n",
            " [1. 0. 1. 0. 1. 0. 1. 0.]\n",
            " [0. 1. 0. 1. 0. 1. 0. 1.]\n",
            " [1. 0. 1. 0. 1. 0. 1. 0.]]\n"
          ]
        }
      ]
    },
    {
      "cell_type": "code",
      "source": [
        "x = np.array([[1, 2], [3, 5]])\n",
        "y = np.array([[5, 6], [7, 8]])\n",
        "v = np.array([9, 10])\n",
        "w = np.array([11, 12])\n",
        "\n",
        "print(x+y)\n",
        "print()\n",
        "print(x-y)\n",
        "print()\n",
        "\n",
        "print(x*2)\n",
        "print()\n",
        "print(y*2)\n",
        "print()\n",
        "print(np.square(x))\n",
        "print()\n",
        "print(np.square(y))\n",
        "print(\"\\nDot product\" )\n",
        "print(np.dot(v,w))\n",
        "print(\"\\nDot product x y\")\n",
        "print(np.dot(x,y))\n",
        "print(\"\\nDot product x v\")\n",
        "print(np.dot(x,v))"
      ],
      "metadata": {
        "colab": {
          "base_uri": "https://localhost:8080/"
        },
        "id": "60AhNtrpI6M-",
        "outputId": "a3494964-7984-470f-f0d2-5150d64d52fd"
      },
      "execution_count": 78,
      "outputs": [
        {
          "output_type": "stream",
          "name": "stdout",
          "text": [
            "[[ 6  8]\n",
            " [10 13]]\n",
            "\n",
            "[[-4 -4]\n",
            " [-4 -3]]\n",
            "\n",
            "[[ 2  4]\n",
            " [ 6 10]]\n",
            "\n",
            "[[10 12]\n",
            " [14 16]]\n",
            "\n",
            "[[ 1  4]\n",
            " [ 9 25]]\n",
            "\n",
            "[[25 36]\n",
            " [49 64]]\n",
            "\n",
            "Dot product\n",
            "219\n",
            "\n",
            "Dot product x y\n",
            "[[19 22]\n",
            " [50 58]]\n",
            "\n",
            "Dot product x v\n",
            "[29 77]\n"
          ]
        }
      ]
    },
    {
      "cell_type": "code",
      "source": [
        "cat_row=np.concatenate((x,y),axis=0)\n",
        "print(cat_row)"
      ],
      "metadata": {
        "colab": {
          "base_uri": "https://localhost:8080/"
        },
        "id": "i5o6No3ZJQlt",
        "outputId": "dc716751-daad-4fb7-a199-252920a6e4ef"
      },
      "execution_count": 80,
      "outputs": [
        {
          "output_type": "stream",
          "name": "stdout",
          "text": [
            "[[1 2]\n",
            " [3 5]\n",
            " [5 6]\n",
            " [7 8]]\n"
          ]
        }
      ]
    },
    {
      "cell_type": "code",
      "source": [
        "cat_col=np.concatenate((x,y),axis=1)\n",
        "print(cat_col)"
      ],
      "metadata": {
        "colab": {
          "base_uri": "https://localhost:8080/"
        },
        "id": "gvHusOHEK1NA",
        "outputId": "d7cd9af8-b366-4009-ed97-91c38600f097"
      },
      "execution_count": 81,
      "outputs": [
        {
          "output_type": "stream",
          "name": "stdout",
          "text": [
            "[[1 2 5 6]\n",
            " [3 5 7 8]]\n"
          ]
        }
      ]
    },
    {
      "cell_type": "code",
      "source": [
        "cat_row=np.concatenate((x,v),axis=0)\n",
        "print(cat_row)\n",
        "\n",
        "#this jhappened beaciuse the demison of the x and v does\n",
        "#not match as the one is one dimension and another is 2 dimension"
      ],
      "metadata": {
        "colab": {
          "base_uri": "https://localhost:8080/",
          "height": 176
        },
        "id": "LumFJJjfK9s5",
        "outputId": "e3fba468-f053-46a9-b027-b98192fa1fab"
      },
      "execution_count": 83,
      "outputs": [
        {
          "output_type": "error",
          "ename": "ValueError",
          "evalue": "all the input arrays must have same number of dimensions, but the array at index 0 has 2 dimension(s) and the array at index 1 has 1 dimension(s)",
          "traceback": [
            "\u001b[0;31m---------------------------------------------------------------------------\u001b[0m",
            "\u001b[0;31mValueError\u001b[0m                                Traceback (most recent call last)",
            "\u001b[0;32m<ipython-input-83-cdd7420a736b>\u001b[0m in \u001b[0;36m<cell line: 0>\u001b[0;34m()\u001b[0m\n\u001b[0;32m----> 1\u001b[0;31m \u001b[0mcat_row\u001b[0m\u001b[0;34m=\u001b[0m\u001b[0mnp\u001b[0m\u001b[0;34m.\u001b[0m\u001b[0mconcatenate\u001b[0m\u001b[0;34m(\u001b[0m\u001b[0;34m(\u001b[0m\u001b[0mx\u001b[0m\u001b[0;34m,\u001b[0m\u001b[0mv\u001b[0m\u001b[0;34m)\u001b[0m\u001b[0;34m,\u001b[0m\u001b[0maxis\u001b[0m\u001b[0;34m=\u001b[0m\u001b[0;36m0\u001b[0m\u001b[0;34m)\u001b[0m\u001b[0;34m\u001b[0m\u001b[0;34m\u001b[0m\u001b[0m\n\u001b[0m\u001b[1;32m      2\u001b[0m \u001b[0mprint\u001b[0m\u001b[0;34m(\u001b[0m\u001b[0mcat_row\u001b[0m\u001b[0;34m)\u001b[0m\u001b[0;34m\u001b[0m\u001b[0;34m\u001b[0m\u001b[0m\n",
            "\u001b[0;31mValueError\u001b[0m: all the input arrays must have same number of dimensions, but the array at index 0 has 2 dimension(s) and the array at index 1 has 1 dimension(s)"
          ]
        }
      ]
    },
    {
      "cell_type": "code",
      "source": [
        "\n",
        "\n",
        "A = np.array([[3, 4], [7, 8]])\n",
        "B = np.array([[5, 3], [2, 1]])\n"
      ],
      "metadata": {
        "id": "Ya505JhvLArO"
      },
      "execution_count": 85,
      "outputs": []
    },
    {
      "cell_type": "code",
      "source": [
        "\n",
        "A_inv = np.linalg.inv(A)\n",
        "\n",
        "result = np.dot(A, A_inv)\n",
        "\n",
        "I = np.eye(2)\n",
        "\n",
        "print(result)\n",
        "print(I)\n",
        "if np.allclose(result, I):\n",
        "    print(\"It is proved.\")\n",
        "\n"
      ],
      "metadata": {
        "colab": {
          "base_uri": "https://localhost:8080/"
        },
        "id": "NKRgsaH8LiDI",
        "outputId": "9c4ad4bf-a02b-476a-d1d5-201386ce8974"
      },
      "execution_count": 92,
      "outputs": [
        {
          "output_type": "stream",
          "name": "stdout",
          "text": [
            "[[1.00000000e+00 0.00000000e+00]\n",
            " [1.77635684e-15 1.00000000e+00]]\n",
            "[[1. 0.]\n",
            " [0. 1.]]\n",
            "It is proved.\n"
          ]
        }
      ]
    },
    {
      "cell_type": "code",
      "source": [
        "AB = np.dot(A, B)\n",
        "BA = np.dot(B, A)\n",
        "if np.array_equal(AB, BA):\n",
        "  (\"it is proved\")\n",
        "else:\n",
        "    print(\"not proved\")\n",
        "\n"
      ],
      "metadata": {
        "colab": {
          "base_uri": "https://localhost:8080/"
        },
        "id": "NsU0pWf3NAyl",
        "outputId": "c4a2fe2d-218a-4d80-ae76-daa4e28f0922"
      },
      "execution_count": 97,
      "outputs": [
        {
          "output_type": "stream",
          "name": "stdout",
          "text": [
            "not proved\n"
          ]
        }
      ]
    },
    {
      "cell_type": "markdown",
      "source": [],
      "metadata": {
        "id": "-jdpYdd2LUmI"
      }
    },
    {
      "cell_type": "code",
      "source": [
        "\n",
        "AB_T = np.transpose(AB)\n",
        "\n",
        "B_T = np.transpose(B)\n",
        "A_T = np.transpose(A)\n",
        "\n",
        "B_T_A_T = np.dot(B_T, A_T)\n",
        "\n",
        "\n",
        "if np.array_equal(AB_T, B_T_A_T):\n",
        "  print(\"It is equal (AB)T = BTAT\")\n",
        "else:\n",
        "  print(\"not proved\")"
      ],
      "metadata": {
        "colab": {
          "base_uri": "https://localhost:8080/"
        },
        "id": "5xn5jj0rNj6Q",
        "outputId": "3c9f9f60-222a-4048-ea13-dc7489c2c650"
      },
      "execution_count": 98,
      "outputs": [
        {
          "output_type": "stream",
          "name": "stdout",
          "text": [
            "It is equal (AB)T = BTAT\n"
          ]
        }
      ]
    },
    {
      "cell_type": "code",
      "source": [
        "A= np.array([[2, -3, 1], [1, -1, 2], [3, 1, -1]])\n",
        "B = np.array([-1, -3, 9])\n",
        "\n",
        "\n",
        "A_inv = np.linalg.inv(A)\n",
        "\n",
        "X = np.dot(A_inv, B)\n",
        "\n",
        "print(X)"
      ],
      "metadata": {
        "colab": {
          "base_uri": "https://localhost:8080/"
        },
        "id": "PaMOpHlsN8R5",
        "outputId": "f2fbf64b-ec58-4550-d96a-56d798164dcd"
      },
      "execution_count": 99,
      "outputs": [
        {
          "output_type": "stream",
          "name": "stdout",
          "text": [
            "[ 2.  1. -2.]\n"
          ]
        }
      ]
    },
    {
      "cell_type": "code",
      "source": [
        "import time\n",
        "import numpy as np\n",
        "\n",
        "size=1000000\n",
        "\n",
        "list_a = list(range(size))\n",
        "list_b = list(range(size))\n",
        "\n",
        "arr_a = np.arange(size)\n",
        "arr_b = np.arange(size)\n",
        "\n",
        "start_time = time.time()\n",
        "\n",
        "start_time = time.time()\n",
        "list_sum = [a + b for a, b in zip(list_a, list_b)]\n",
        "list_add_time = time.time() - start_time\n",
        "print(list_add_time)\n",
        "\n",
        "\n",
        "start_time = time.time()\n",
        "np_sum = arr_a + arr_b\n",
        "np_add_time = time.time() - start_time\n",
        "print(np_add_time)"
      ],
      "metadata": {
        "colab": {
          "base_uri": "https://localhost:8080/"
        },
        "id": "R7h0UpU9OdKx",
        "outputId": "e3868ea8-b746-494d-f324-172697a8f6cc"
      },
      "execution_count": 7,
      "outputs": [
        {
          "output_type": "stream",
          "name": "stdout",
          "text": [
            "0.06766319274902344\n",
            "0.003030061721801758\n"
          ]
        }
      ]
    },
    {
      "cell_type": "code",
      "source": [
        "\n",
        "start_time = time.time()\n",
        "list_multiplication = [a * b for a, b in zip(list_a, list_b)]\n",
        "list_multiplication_time = time.time() - start_time\n",
        "print(list_multiplication_time)\n",
        "\n",
        "\n",
        "start_time = time.time()\n",
        "np_multiplication = arr_a * arr_b\n",
        "np_multiplication_time = time.time() - start_time\n",
        "print(np_multiplication_time)"
      ],
      "metadata": {
        "colab": {
          "base_uri": "https://localhost:8080/"
        },
        "id": "htL8SOo2PlJx",
        "outputId": "a59af5c0-76cb-4ee0-edc2-633e57aeb01b"
      },
      "execution_count": 8,
      "outputs": [
        {
          "output_type": "stream",
          "name": "stdout",
          "text": [
            "0.13631129264831543\n",
            "0.0030455589294433594\n"
          ]
        }
      ]
    },
    {
      "cell_type": "code",
      "source": [
        "\n",
        "start_time = time.time()\n",
        "list_dot_product = sum(a * b for a, b in zip(list_a, list_b))\n",
        "list_dot_product_time = time.time() - start_time\n",
        "print(list_dot_product_time)\n",
        "\n",
        "start_time = time.time()\n",
        "np_dot_product = np.dot(arr_a, arr_b)\n",
        "np_dot_product_time = time.time() - start_time\n",
        "print(np_dot_product_time)"
      ],
      "metadata": {
        "colab": {
          "base_uri": "https://localhost:8080/"
        },
        "id": "XgyD3_JwPr3F",
        "outputId": "a081c077-1ae7-409f-ed71-3dec9d135b2f"
      },
      "execution_count": 11,
      "outputs": [
        {
          "output_type": "stream",
          "name": "stdout",
          "text": [
            "0.08350634574890137\n",
            "0.0018086433410644531\n"
          ]
        }
      ]
    },
    {
      "cell_type": "code",
      "source": [
        "\n",
        "size_matrix = 1000\n",
        "matrix_a = [[i for i in range(size_matrix)] for _ in range(size_matrix)]\n",
        "matrix_b = [[i for i in range(size_matrix)] for _ in range(size_matrix)]\n",
        "\n",
        "start_time = time.time()\n",
        "matrix_multiplication_python = [[sum(a * b for a, b in zip(row_a, col_b)) for col_b in zip(*matrix_b)] for row_a in matrix_a]\n",
        "matrix_multiplication_python_time = time.time() - start_time\n",
        "print(matrix_multiplication_python_time)\n",
        "\n",
        "np_matrix_a = np.arange(size_matrix * size_matrix).reshape(size_matrix, size_matrix)\n",
        "np_matrix_b = np.arange(size_matrix * size_matrix).reshape(size_matrix, size_matrix)\n",
        "\n",
        "start_time = time.time()\n",
        "matrix_multiplication_numpy = np.dot(np_matrix_a, np_matrix_b)\n",
        "matrix_multiplication_numpy_time = time.time() - start_time\n",
        "print(matrix_multiplication_numpy_time)"
      ],
      "metadata": {
        "colab": {
          "base_uri": "https://localhost:8080/"
        },
        "id": "HCrOLonUPvFW",
        "outputId": "9ba23a92-5554-4881-9507-b8a28a046032"
      },
      "execution_count": 10,
      "outputs": [
        {
          "output_type": "stream",
          "name": "stdout",
          "text": [
            "159.41729712486267\n",
            "1.445967674255371\n"
          ]
        }
      ]
    }
  ]
}